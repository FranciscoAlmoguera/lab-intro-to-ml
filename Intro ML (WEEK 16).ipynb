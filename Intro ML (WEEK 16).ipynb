{
  "nbformat": 4,
  "nbformat_minor": 0,
  "metadata": {
    "colab": {
      "provenance": []
    },
    "kernelspec": {
      "name": "python3",
      "display_name": "Python 3"
    },
    "language_info": {
      "name": "python"
    }
  },
  "cells": [
    {
      "cell_type": "code",
      "source": [
        "import pandas as pd\n",
        "from sklearn.model_selection import train_test_split\n",
        "from sklearn.neighbors import KNeighborsClassifier\n",
        "from sklearn.metrics import classification_report, accuracy_score\n",
        "\n",
        "# Dataset\n",
        "url = 'https://raw.githubusercontent.com/data-bootcamp-v4/data/main/spaceship_titanic.csv'\n",
        "df = pd.read_csv(url)\n",
        "\n",
        "# Shape of the data\n",
        "print(\"Shape of the DataFrame:\", df.shape)\n",
        "\n",
        "# Data types\n",
        "print(\"\\nData Types of Each Column:\\n\", df.dtypes)\n",
        "\n",
        "# Check for missing values\n",
        "missing_values = df.isnull().sum()\n",
        "print(\"\\nMissing Values in Each Column:\\n\", missing_values)\n",
        "\n",
        "# Remove rows containing any missing value\n",
        "df_cleaned = df.dropna()\n",
        "\n",
        "# Checking the shape after dropping missing values\n",
        "print(\"\\nShape of the DataFrame after dropping missing values:\", df_cleaned.shape)\n",
        "\n",
        "# Display column names\n",
        "print(\"\\nColumn Names:\\n\", df_cleaned.columns)\n",
        "\n",
        "# Select only numerical columns as features\n",
        "numerical_features = df_cleaned.select_dtypes(include=['number'])\n",
        "\n",
        "# Define the target variable\n",
        "target_column = 'Transported'  # Ensure the column name matches\n",
        "print(f\"Looking for target column: '{target_column}'\")\n",
        "\n",
        "# Check if the target column exists\n",
        "if target_column in df_cleaned.columns:\n",
        "    target = df_cleaned[target_column]  # Assuming 'Transported' is the target variable\n",
        "else:\n",
        "    print(f\"Column '{target_column}' not found in DataFrame.\")\n",
        "    target = None  # Set target to None if not found (and handle this case)\n",
        "\n",
        "# If target is None, we shouldn't proceed with fitting the model\n",
        "if target is not None:\n",
        "    X = numerical_features  # Use all numerical features\n",
        "    if target_column in X.columns:\n",
        "        X = X.drop(columns=[target_column])  # Drop the target from features if present\n",
        "\n",
        "    # Train-Test Split\n",
        "    X_train, X_test, y_train, y_test = train_test_split(X, target, test_size=0.2, random_state=42)\n",
        "\n",
        "    # Model Selection - Initialize a KNN instance\n",
        "    knn = KNeighborsClassifier()"
      ],
      "metadata": {
        "colab": {
          "base_uri": "https://localhost:8080/"
        },
        "id": "1hpa9oLCIa7P",
        "outputId": "4fe8a3cd-6467-4e57-fc80-b66860d61682"
      },
      "execution_count": 18,
      "outputs": [
        {
          "output_type": "stream",
          "name": "stdout",
          "text": [
            "Shape of the DataFrame: (8693, 14)\n",
            "\n",
            "Data Types of Each Column:\n",
            " PassengerId      object\n",
            "HomePlanet       object\n",
            "CryoSleep        object\n",
            "Cabin            object\n",
            "Destination      object\n",
            "Age             float64\n",
            "VIP              object\n",
            "RoomService     float64\n",
            "FoodCourt       float64\n",
            "ShoppingMall    float64\n",
            "Spa             float64\n",
            "VRDeck          float64\n",
            "Name             object\n",
            "Transported        bool\n",
            "dtype: object\n",
            "\n",
            "Missing Values in Each Column:\n",
            " PassengerId       0\n",
            "HomePlanet      201\n",
            "CryoSleep       217\n",
            "Cabin           199\n",
            "Destination     182\n",
            "Age             179\n",
            "VIP             203\n",
            "RoomService     181\n",
            "FoodCourt       183\n",
            "ShoppingMall    208\n",
            "Spa             183\n",
            "VRDeck          188\n",
            "Name            200\n",
            "Transported       0\n",
            "dtype: int64\n",
            "\n",
            "Shape of the DataFrame after dropping missing values: (6606, 14)\n",
            "\n",
            "Column Names:\n",
            " Index(['PassengerId', 'HomePlanet', 'CryoSleep', 'Cabin', 'Destination', 'Age',\n",
            "       'VIP', 'RoomService', 'FoodCourt', 'ShoppingMall', 'Spa', 'VRDeck',\n",
            "       'Name', 'Transported'],\n",
            "      dtype='object')\n",
            "Looking for target column: 'Transported'\n"
          ]
        }
      ]
    }
  ]
}